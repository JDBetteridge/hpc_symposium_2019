{
 "cells": [
  {
   "cell_type": "markdown",
   "metadata": {
    "slideshow": {
     "slide_type": "slide"
    }
   },
   "source": [
    "# Efficient solvers for semi-implicit hybridised DG methods in fluid dynamics\n",
    "### _Jack Betteridge_★, Thomas Gibson† ,\n",
    "### Ivan Graham★ , Lawrence Mitchell‡ , Eike Müller★\n",
    "* ★Dept of Mathematical Sciences (Bath)\n",
    "* †Imperial College London\n",
    "* ‡Durham University"
   ]
  },
  {
   "cell_type": "markdown",
   "metadata": {
    "slideshow": {
     "slide_type": "slide"
    }
   },
   "source": [
    "### Motivation\n",
    "Atmospheric fluid dynamics separation of scales:\n",
    "* Slow waves (≈ 30m/s): Coriolis force, advection, large scale weather patterns, quasi-geostrophic flow\n",
    "* Fast waves (≈ 300m/s): Acoustic, dynamically \"irrelevant\" (carry little energy)"
   ]
  },
  {
   "cell_type": "markdown",
   "metadata": {
    "slideshow": {
     "slide_type": "subslide"
    }
   },
   "source": [
    "However...\n",
    "\n",
    "* Fast waves are essential for driving large scale nonlinear dynamics\n",
    "* Time step in explicit integrators for $\\frac{\\partial q}{\\partial t} = \\mathcal{N}(q(t))$ prohibitively small\n",
    "\n",
    "⇒ semi-implicit methods (IMEX)\n",
    "$$\n",
    "\\frac{\\color{green}{q^{(t+\\Delta t)}} - \\color{blue}{q^{(t)}}}{\\Delta t}\n",
    "= \\color{blue}{\\underbrace{\\mathcal{N}(q^{(t)}) - \\mathcal{L}q^{(t)}}_{\\text{explicit}}}\\quad\n",
    "+\\color{green}{\\underbrace{\\mathcal{L}{q^{(t+\\Delta t)}}}_{\\text{implicit fast waves}}}\n",
    "$$"
   ]
  },
  {
   "cell_type": "markdown",
   "metadata": {
    "slideshow": {
     "slide_type": "slide"
    }
   },
   "source": [
    "### Discontinuous Galerkin Methods\n",
    "**Key idea:** allow jumps in our solution\n",
    "\n",
    "<center><img src=\"../images/DGschematic.svg\" width=\"50%\"></center>\n",
    "\n",
    "and control jumps using a numerical flux."
   ]
  },
  {
   "cell_type": "markdown",
   "metadata": {
    "slideshow": {
     "slide_type": "subslide"
    }
   },
   "source": [
    "## Information: **Advantages:**\n",
    "* local data layout (no dofs on facets)\n",
    "* arbitrary geometries\n",
    "* inherently conservative\n",
    "* sum-factorisation at higher order"
   ]
  },
  {
   "cell_type": "markdown",
   "metadata": {
    "slideshow": {
     "slide_type": "subslide"
    }
   },
   "source": [
    "**Linear system:**\n",
    "\n",
    "$$\\color{green}{(I − \\Delta t L)q^{(t + \\delta t)}} = \\color{blue}{R(q^{(t)})}$$\n",
    "\n",
    "**Problem:** Operator hard to precondition for DG problems"
   ]
  },
  {
   "cell_type": "markdown",
   "metadata": {
    "slideshow": {
     "slide_type": "subslide"
    }
   },
   "source": [
    "### Information: Our Method\n",
    "* Hybridized DG method [Kang,Giraldo,Bui-Thanh(2017)]†\n",
    "* With non-nested geometric multigrid on facet system [Gopalakrishnan,Tan(2009)]"
   ]
  },
  {
   "cell_type": "markdown",
   "metadata": {
    "slideshow": {
     "slide_type": "fragment"
    }
   },
   "source": [
    "†use expensive direct solver for facet system"
   ]
  },
  {
   "cell_type": "markdown",
   "metadata": {
    "slideshow": {
     "slide_type": "slide"
    }
   },
   "source": [
    "### Non-linear Shallow Water Equations\n",
    "<center><img src=\"../images/depth.png\" width=\"50%\"></center>\n",
    "$$\\begin{align*}\n",
    "    \\partial_t \\color{green}{{u}}\n",
    "    +\\nabla\\cdot \\left(\\frac{\\color{green}{{u}}\\otimes\\color{green}{{u}}}{\\color{green}{\\phi}+\\phi_B} \n",
    "    +\\frac{(\\color{green}{\\phi}+\\phi_B)^2}{2}I_2\\right)\n",
    "    &= \\text{RHS}\\\\\n",
    "    \\partial_t\\color{green}{\\phi} + \\hspace{4.7em}\n",
    "    \\nabla\\cdot \\color{green}{{u}} \\hspace{5em}\n",
    "    &= 0\n",
    "\\end{align*}$$"
   ]
  },
  {
   "cell_type": "markdown",
   "metadata": {
    "slideshow": {
     "slide_type": "subslide"
    }
   },
   "source": [
    "<center><video style=\"width:100%\" autoplay=True loop=True controls class=\"w3-margin-bottom w3-center\" src=\"../images/videos/bath_comp.mp4\" /></center>"
   ]
  },
  {
   "cell_type": "markdown",
   "metadata": {
    "slideshow": {
     "slide_type": "slide"
    }
   },
   "source": [
    "### DG Discretisation\n",
    "<center><img src=\"../images/DGdiscretisation.svg\" width=\"300px\" class=\"w3-center\"></center>\n",
    "$$\n",
    "\\begin{equation*}\n",
    "    \\begin{pmatrix}\n",
    "    A_{11} & A_{12}\\\\A_{21} & A_{22}\n",
    "    \\end{pmatrix}\n",
    "    \\begin{pmatrix}\n",
    "    \\color{green}{{U}^{(t+\\Delta t)}}\\\\\n",
    "    \\color{green}{{\\Phi}^{(t+\\Delta t)}}\n",
    "    \\end{pmatrix} =\n",
    "    \\begin{pmatrix}\n",
    "    \\vec{R}_u\\\\\n",
    "    \\vec{R}_\\phi\n",
    "    \\end{pmatrix}\n",
    "\\end{equation*}\n",
    "$$\n",
    "\n",
    "$A_{ij}$ **not** block-diagonal"
   ]
  },
  {
   "cell_type": "markdown",
   "metadata": {
    "slideshow": {
     "slide_type": "subslide"
    }
   },
   "source": [
    "### Hybridised DG Discretisation\n",
    "<center><img src=\"../images/hybridizedDGdiscretisation.svg\" width=\"300px\"></center>\n",
    "$$\n",
    "\\begin{pmatrix}\n",
    "  \\begin{array}{|@{\\:}cc@{\\:}|}\n",
    "    \\hline\n",
    "    \\hat{A}_{11} & \\hat{A}_{12}\\\\\n",
    "    \\hat{A}_{21} & \\hat{A}_{22} \\\\\n",
    "    \\hline\n",
    "    \\end{array}\n",
    "  \\begin{array}{c}\\hat{A}_{13} \\\\ \\hat{A}_{23}\\end{array}\\\\\n",
    "  \\begin{array}{ccc}\\hat{A}_{31} & \\hat{A}_{32}\\end{array}\\quad \\hat{A}_{33}\n",
    "\\end{pmatrix}\n",
    "\\begin{pmatrix}\n",
    "\\color{green}{{U}^{(t+\\Delta t)}}\\\\\n",
    "\\color{green}{{\\Phi}^{(t+\\Delta t)}}\\\\\n",
    "\\color{red}{{\\Lambda}}\n",
    "\\end{pmatrix}\n",
    "= \\begin{pmatrix}\n",
    "\\vec{R}_u\\\\\n",
    "\\vec{R}_\\phi\\\\\n",
    "\\vec{R}_\\lambda\n",
    "\\end{pmatrix}\n",
    "$$\n",
    "\n",
    "$A_{11},A_{12},A_{21},A_{22}$ **are** block-diagonal, $\\color{red}{{\\Lambda}}$ has fewer dofs than $\\color{green}{{U}}$ or $\\color{green}{{\\Phi}}$ "
   ]
  },
  {
   "cell_type": "markdown",
   "metadata": {
    "slideshow": {
     "slide_type": "subslide"
    }
   },
   "source": [
    "<center><img src=\"../images/sparsity.png\" width=\"100%\"></center>"
   ]
  },
  {
   "cell_type": "markdown",
   "metadata": {
    "slideshow": {
     "slide_type": "slide"
    }
   },
   "source": [
    "### Non-nested Multigrid\n",
    "\n",
    "<center><img src=\"../images/multigrid.svg\" width=\"70%\"></center>\n",
    "Rediscretise problem on $P_1$ space"
   ]
  },
  {
   "cell_type": "markdown",
   "metadata": {
    "slideshow": {
     "slide_type": "slide"
    }
   },
   "source": [
    "## Results"
   ]
  },
  {
   "cell_type": "markdown",
   "metadata": {
    "slideshow": {
     "slide_type": "fragment"
    }
   },
   "source": [
    "## Information : Software on Bath supercomputer *Balena:*\n",
    "* _Firedrake_ finite element framework\n",
    "* _SLATE_ language within Firedrake for hybridisation\n",
    "* _PETSc_ multigrid solvers"
   ]
  },
  {
   "cell_type": "markdown",
   "metadata": {
    "slideshow": {
     "slide_type": "subslide"
    }
   },
   "source": [
    "**Stationary vortex analytic solution:**\n",
    "<center><img src=\"../images/stationary_vortex.png\" width=\"80%\"></center>"
   ]
  },
  {
   "cell_type": "markdown",
   "metadata": {
    "slideshow": {
     "slide_type": "subslide"
    }
   },
   "source": [
    "**Single time step runtime per dof against unknowns:**\n",
    "<center><img src=\"../images/NL_NOEXPruntime-ndof-ntime_ndof.png\" width=\"800px\"></center>\n",
    "Non-linear stationary vortex, Lax-Friedrichs, Bathymetry, Theta Method"
   ]
  },
  {
   "cell_type": "markdown",
   "metadata": {
    "slideshow": {
     "slide_type": "subslide"
    }
   },
   "source": [
    "**Relative speedup of Hybridised AMG compared to DG\n",
    "blocked preconditioner:**\n",
    "<center><img src=\"../images/nonlinear_speedup_ndof.png\" width=\"800px\"></center>"
   ]
  },
  {
   "cell_type": "markdown",
   "metadata": {
    "slideshow": {
     "slide_type": "slide"
    }
   },
   "source": [
    "## Information : Next steps:\n",
    "* Spherical formulation\n",
    "    * Tangential velocity, correct facet normal\n",
    "* Matrix-free sum-factorised implementation\n",
    "* Gravity wave/Navier-Stokes equations\n",
    "    * Vertical anisotropy"
   ]
  },
  {
   "cell_type": "markdown",
   "metadata": {
    "slideshow": {
     "slide_type": "slide"
    }
   },
   "source": [
    "<center><video style=\"width:50%\" autoplay=True loop=True controls class=\"w3-margin-bottom w3-center\" src=\"../images/videos/corner.mp4\" /></center>"
   ]
  },
  {
   "cell_type": "markdown",
   "metadata": {
    "slideshow": {
     "slide_type": "fragment"
    }
   },
   "source": [
    "## Setup: Rendered using\n",
    "<center><a href=\"https://github.com/JDBetteridge/nbfancy\"><img src=\"../images/nbfancylogo.png\" width=\"200px\"></a></center>"
   ]
  }
 ],
 "metadata": {
  "celltoolbar": "Slideshow",
  "kernelspec": {
   "display_name": "Python 3",
   "language": "python",
   "name": "python3"
  },
  "language_info": {
   "codemirror_mode": {
    "name": "ipython",
    "version": 3
   },
   "file_extension": ".py",
   "mimetype": "text/x-python",
   "name": "python",
   "nbconvert_exporter": "python",
   "pygments_lexer": "ipython3",
   "version": "3.7.3"
  }
 },
 "nbformat": 4,
 "nbformat_minor": 2
}
